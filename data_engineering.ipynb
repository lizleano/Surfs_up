{
 "cells": [
  {
   "cell_type": "markdown",
   "metadata": {},
   "source": [
    "# Data Engineering"
   ]
  },
  {
   "cell_type": "code",
   "execution_count": 1,
   "metadata": {
    "collapsed": true
   },
   "outputs": [],
   "source": [
    "# import dependencies\n",
    "import pandas as pd\n"
   ]
  },
  {
   "cell_type": "code",
   "execution_count": 2,
   "metadata": {
    "collapsed": true
   },
   "outputs": [],
   "source": [
    "# define data inputs\n",
    "stations_data = \"raw_data/hawaii_stations.csv\"\n",
    "measurements_data = \"raw_data/hawaii_measurements.csv\""
   ]
  },
  {
   "cell_type": "code",
   "execution_count": 3,
   "metadata": {
    "collapsed": true
   },
   "outputs": [],
   "source": [
    "# open stations_data and measuremnts_data.  Replace all NaN, if any\n",
    "stations_orig_pd = pd.read_csv(stations_data)\n",
    "stations_orig_pd.fillna(0, inplace=True)\n",
    "\n",
    "measurements_orig_pd = pd.read_csv(measurements_data)\n",
    "measurements_orig_pd.fillna(0, inplace=True)"
   ]
  },
  {
   "cell_type": "code",
   "execution_count": 4,
   "metadata": {
    "collapsed": true
   },
   "outputs": [],
   "source": [
    "# write cleaned csv to and output file prefixed by clean\n",
    "stations_orig_pd.to_csv(\"raw_data/clean_stations.csv\", index=False)\n",
    "measurements_orig_pd.to_csv(\"raw_data/clean_measurements.csv\", index=False)"
   ]
  },
  {
   "cell_type": "code",
   "execution_count": 5,
   "metadata": {
    "collapsed": true
   },
   "outputs": [],
   "source": [
    "# using pandas read cleaned csv\n",
    "stations_df = pd.read_csv(\"raw_data/clean_stations.csv\")\n",
    "measurements_df = pd.read_csv(\"raw_data/clean_measurements.csv\")"
   ]
  },
  {
   "cell_type": "markdown",
   "metadata": {},
   "source": [
    "# Database Engineering"
   ]
  },
  {
   "cell_type": "code",
   "execution_count": 6,
   "metadata": {
    "collapsed": true
   },
   "outputs": [],
   "source": [
    "# setup dependencies for sqlalchemy\n",
    "from sqlalchemy import create_engine\n",
    "from sqlalchemy import MetaData\n",
    "from sqlalchemy import Table\n",
    "from sqlalchemy.ext.declarative import declarative_base\n",
    "Base = declarative_base()\n",
    "from sqlalchemy.orm import relationship\n",
    "\n",
    "from sqlalchemy import Column, Integer, String, Float, Numeric, Date"
   ]
  },
  {
   "cell_type": "code",
   "execution_count": 7,
   "metadata": {
    "collapsed": true
   },
   "outputs": [],
   "source": [
    "# setup station class\n",
    "# station\tname\tlatitude\tlongitude\televation\n",
    "class Stations(Base):\n",
    "  __tablename__ = \"stations\"\n",
    "  station = Column(String(100), primary_key=True)\n",
    "  name = Column(String(300))\n",
    "  latitude = Column(Float)\n",
    "  longitude = Column(Float)\n",
    "  elevation = Column(Float)\n",
    "    \n",
    "# setup masurements class\n",
    "# station\tdate\tprcp\ttobs\n",
    "class Measurements(Base):\n",
    "  __tablename__ = \"measurements\"\n",
    "  measurement_id = Column(Integer, primary_key=True, autoincrement=True)\n",
    "  station = Column(String(100))\n",
    "  date = Column(Date)\n",
    "  prcp = Column(Float)\n",
    "  tobs = Column(Integer)    \n"
   ]
  },
  {
   "cell_type": "code",
   "execution_count": 8,
   "metadata": {
    "collapsed": true
   },
   "outputs": [],
   "source": [
    "# Create Database Connection\n",
    "# ----------------------------------\n",
    "#  Establish SQL Lite connection\n",
    "DB_CONN_URI_DEFAULT = 'sqlite:///hawaii.sqlite'\n",
    "\n",
    "engine = create_engine(DB_CONN_URI_DEFAULT)\n",
    "\n",
    "\n"
   ]
  },
  {
   "cell_type": "code",
   "execution_count": 9,
   "metadata": {
    "collapsed": true
   },
   "outputs": [],
   "source": [
    "# Create a Table instance one for each weather station\n",
    "metadata = MetaData(engine)\n",
    "# Declare a table\n",
    "for index, row in stations_df.iterrows():\n",
    "    table = Table(row['name'].split( )[0],metadata,\n",
    "#               Column('id',Integer, primary_key=True),\n",
    "#               Column('name',String))\n",
    "                  Column('id', Integer, primary_key=True, autoincrement=True),\n",
    "                  Column('name', String(300)),\n",
    "                  Column('latitude',Float),\n",
    "                  Column('longitude',Float),\n",
    "                  Column('elevation', Float),\n",
    "                  Column('station', String(100)),\n",
    "                  Column('date', Date),\n",
    "                  Column('prcp', Float),\n",
    "                  Column('tobs', Integer))\n",
    "\n"
   ]
  },
  {
   "cell_type": "code",
   "execution_count": 10,
   "metadata": {
    "collapsed": true
   },
   "outputs": [],
   "source": [
    "# create connection\n",
    "conn = engine.connect()\n",
    "# Create all tables\n",
    "Base.metadata.create_all(conn)\n",
    "metadata.create_all(conn)\n",
    "# for _t in metadata.tables:\n",
    "#    print (\"Table: %s\" % _t)"
   ]
  },
  {
   "cell_type": "code",
   "execution_count": 11,
   "metadata": {},
   "outputs": [],
   "source": [
    "# populate stations table from csv file\n",
    "stations_df.to_sql(con=conn, index=False, name='stations', if_exists='append', chunksize=20000)\n",
    "# for s in stations_df:\n",
    "#     s.to_sql(name='stations', if_exists='append',index=False, con=conn)"
   ]
  },
  {
   "cell_type": "code",
   "execution_count": 12,
   "metadata": {
    "collapsed": true
   },
   "outputs": [],
   "source": [
    "# populate measurements table from csv file\n",
    "measurements_df.to_sql(con=conn, index=False, name='measurements', if_exists='append', chunksize=20000)\n",
    "# for m in measurements_df:\n",
    "#     m.to_sql(name='measurements', if_exists='append', con=conn)"
   ]
  },
  {
   "cell_type": "code",
   "execution_count": 13,
   "metadata": {},
   "outputs": [
    {
     "name": "stdout",
     "output_type": "stream",
     "text": [
      "WAIKIKI 717.2, HI US\n",
      "KANEOHE 838.1, HI US\n",
      "KUALOA RANCH HEADQUARTERS 886.9, HI US\n",
      "PEARL CITY, HI US\n",
      "UPPER WAHIAWA 874.3, HI US\n",
      "WAIMANALO EXPERIMENTAL FARM, HI US\n",
      "WAIHEE 837.5, HI US\n",
      "HONOLULU OBSERVATORY 702.2, HI US\n",
      "MANOA LYON ARBO 785.2, HI US\n"
     ]
    }
   ],
   "source": [
    "weather_df = stations_df.merge(measurements_df, on='station', how='inner')\n",
    "for index, row in stations_df.iterrows():\n",
    "    tablename = row['name'].split( )[0].lower()\n",
    "    weatherByName_df = weather_df[weather_df['name']==row['name']]\n",
    "    weatherByName_df.to_sql(name=tablename, if_exists='append', index=False, con=conn, chunksize=20000)\n",
    "    print(row['name'])\n"
   ]
  }
 ],
 "metadata": {
  "kernelspec": {
   "display_name": "Python [conda env:PythonData]",
   "language": "python",
   "name": "conda-env-PythonData-py"
  },
  "language_info": {
   "codemirror_mode": {
    "name": "ipython",
    "version": 3
   },
   "file_extension": ".py",
   "mimetype": "text/x-python",
   "name": "python",
   "nbconvert_exporter": "python",
   "pygments_lexer": "ipython3",
   "version": "3.6.1"
  }
 },
 "nbformat": 4,
 "nbformat_minor": 2
}
